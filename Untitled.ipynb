{
 "cells": [
  {
   "cell_type": "code",
   "execution_count": 2,
   "metadata": {
    "collapsed": true
   },
   "outputs": [],
   "source": [
    "import numpy as np\n",
    "import pandas as pd"
   ]
  },
  {
   "cell_type": "code",
   "execution_count": 3,
   "metadata": {
    "collapsed": true
   },
   "outputs": [],
   "source": [
    "# Create some lists\n",
    "r1 = [0.0, 0.1, 0.0]\n",
    "r2 = [0.0, 0.0, 0.0]\n",
    "\n",
    "# Create some numpy arrays\n",
    "r1_array = np.array(r1)\n",
    "r2_array = np.array(r2)"
   ]
  },
  {
   "cell_type": "code",
   "execution_count": 4,
   "metadata": {
    "collapsed": false
   },
   "outputs": [
    {
     "name": "stdout",
     "output_type": "stream",
     "text": [
      "[0.0, 0.1, 0.0]\n",
      "[ 0.   0.1  0. ]\n"
     ]
    }
   ],
   "source": [
    "print(r1)\n",
    "print(r1_array)"
   ]
  },
  {
   "cell_type": "code",
   "execution_count": 5,
   "metadata": {
    "collapsed": false
   },
   "outputs": [
    {
     "name": "stdout",
     "output_type": "stream",
     "text": [
      "<class 'list'>\n",
      "<class 'numpy.ndarray'>\n"
     ]
    }
   ],
   "source": [
    "print(type(r1))\n",
    "print(type(r1_array))"
   ]
  },
  {
   "cell_type": "code",
   "execution_count": 6,
   "metadata": {
    "collapsed": false
   },
   "outputs": [],
   "source": [
    "import os\n",
    "import numpy as np\n",
    "\n",
    "distance_file = os.path.join('data','distance_data_headers.csv')\n",
    "distances = np.genfromtxt(fname=distance_file, delimiter=',', dtype='unicode')\n",
    "headers = distances[0]\n",
    "data = distances[1:]\n",
    "data = data.astype(np.float)"
   ]
  },
  {
   "cell_type": "code",
   "execution_count": 7,
   "metadata": {
    "collapsed": false
   },
   "outputs": [
    {
     "name": "stdout",
     "output_type": "stream",
     "text": [
      "[ 5000.5           10.87695093     7.34234496    11.20979133    10.9934435 ]\n"
     ]
    }
   ],
   "source": [
    "column_averages = np.mean(data, axis=0)\n",
    "print(column_averages)"
   ]
  },
  {
   "cell_type": "code",
   "execution_count": 8,
   "metadata": {
    "collapsed": false
   },
   "outputs": [
    {
     "name": "stdout",
     "output_type": "stream",
     "text": [
      "[ 10.87695093   7.34234496]\n"
     ]
    }
   ],
   "source": [
    "avg_col_1_2 = np.mean(data[:, 1:3], axis=0)\n",
    "print(avg_col_1_2)"
   ]
  },
  {
   "cell_type": "code",
   "execution_count": 9,
   "metadata": {
    "collapsed": false
   },
   "outputs": [
    {
     "name": "stdout",
     "output_type": "stream",
     "text": [
      "[[ 0.       -0.007156  0.965491]\n",
      " [-0.        0.001486 -0.003471]\n",
      " [ 0.        0.931026  1.207929]]\n"
     ]
    }
   ],
   "source": [
    "file_location = os.path.join('data', 'water.xyz')\n",
    "xyz_file = np.genfromtxt(fname=file_location, skip_header=2,  dtype='unicode')\n",
    "symbols = xyz_file[:,0]\n",
    "coordinates = (xyz_file[:,1:])\n",
    "coordinates = coordinates.astype(np.float)\n",
    "\n",
    "print(coordinates)"
   ]
  },
  {
   "cell_type": "code",
   "execution_count": 10,
   "metadata": {
    "collapsed": true
   },
   "outputs": [],
   "source": [
    "translation_vector = np.array([2,1,0])"
   ]
  },
  {
   "cell_type": "code",
   "execution_count": 11,
   "metadata": {
    "collapsed": false
   },
   "outputs": [
    {
     "name": "stdout",
     "output_type": "stream",
     "text": [
      "[[2.0, 0.99284399999999995, 0.96549099999999999], [2.0, 1.0014860000000001, -0.0034710000000000001], [2.0, 1.9310260000000001, 1.207929]]\n"
     ]
    }
   ],
   "source": [
    "new_coordinates = []\n",
    "\n",
    "for atom in coordinates:\n",
    "    new_x = atom[0] + translation_vector[0]\n",
    "    new_y = atom[1] + translation_vector[1]\n",
    "    new_z = atom[2] + translation_vector[2]\n",
    "    \n",
    "    new_coordinates.append([new_x, new_y, new_z])\n",
    "    \n",
    "print(new_coordinates)"
   ]
  },
  {
   "cell_type": "code",
   "execution_count": 12,
   "metadata": {
    "collapsed": false
   },
   "outputs": [
    {
     "data": {
      "text/plain": [
       "[[2.0, 0.99284399999999995, 0.96549099999999999],\n",
       " [2.0, 1.0014860000000001, -0.0034710000000000001],\n",
       " [2.0, 1.9310260000000001, 1.207929]]"
      ]
     },
     "execution_count": 12,
     "metadata": {},
     "output_type": "execute_result"
    }
   ],
   "source": [
    "new_coordinates"
   ]
  },
  {
   "cell_type": "code",
   "execution_count": 13,
   "metadata": {
    "collapsed": false
   },
   "outputs": [
    {
     "name": "stdout",
     "output_type": "stream",
     "text": [
      "[[ 2.        0.992844  0.965491]\n",
      " [ 2.        1.001486 -0.003471]\n",
      " [ 2.        1.931026  1.207929]]\n"
     ]
    }
   ],
   "source": [
    "new_coordinates = coordinates + translation_vector\n",
    "\n",
    "print(new_coordinates)"
   ]
  },
  {
   "cell_type": "code",
   "execution_count": 14,
   "metadata": {
    "collapsed": true
   },
   "outputs": [],
   "source": [
    "import pandas as pd"
   ]
  },
  {
   "cell_type": "code",
   "execution_count": 15,
   "metadata": {
    "collapsed": true
   },
   "outputs": [],
   "source": [
    "periodic_data = pd.read_csv('PubChemElements_all.csv')"
   ]
  },
  {
   "cell_type": "code",
   "execution_count": 16,
   "metadata": {
    "collapsed": false
   },
   "outputs": [
    {
     "data": {
      "text/html": [
       "<div>\n",
       "<table border=\"1\" class=\"dataframe\">\n",
       "  <thead>\n",
       "    <tr style=\"text-align: right;\">\n",
       "      <th></th>\n",
       "      <th>AtomicNumber</th>\n",
       "      <th>Symbol</th>\n",
       "      <th>Name</th>\n",
       "      <th>AtomicMass</th>\n",
       "      <th>CPKHexColor</th>\n",
       "      <th>ElectronConfiguration</th>\n",
       "      <th>Electronegativity</th>\n",
       "      <th>AtomicRadius</th>\n",
       "      <th>IonizationEnergy</th>\n",
       "      <th>ElectronAffinity</th>\n",
       "      <th>OxidationStates</th>\n",
       "      <th>StandardState</th>\n",
       "      <th>MeltingPoint</th>\n",
       "      <th>BoilingPoint</th>\n",
       "      <th>Density</th>\n",
       "      <th>GroupBlock</th>\n",
       "      <th>YearDiscovered</th>\n",
       "    </tr>\n",
       "  </thead>\n",
       "  <tbody>\n",
       "    <tr>\n",
       "      <th>0</th>\n",
       "      <td>1</td>\n",
       "      <td>H</td>\n",
       "      <td>Hydrogen</td>\n",
       "      <td>1.008000</td>\n",
       "      <td>FFFFFF</td>\n",
       "      <td>1s1</td>\n",
       "      <td>2.20</td>\n",
       "      <td>120.0</td>\n",
       "      <td>13.598</td>\n",
       "      <td>0.754</td>\n",
       "      <td>+1, -1</td>\n",
       "      <td>Gas</td>\n",
       "      <td>13.81</td>\n",
       "      <td>20.28</td>\n",
       "      <td>0.000090</td>\n",
       "      <td>Nonmetal</td>\n",
       "      <td>1766</td>\n",
       "    </tr>\n",
       "    <tr>\n",
       "      <th>1</th>\n",
       "      <td>2</td>\n",
       "      <td>He</td>\n",
       "      <td>Helium</td>\n",
       "      <td>4.002600</td>\n",
       "      <td>D9FFFF</td>\n",
       "      <td>1s2</td>\n",
       "      <td>NaN</td>\n",
       "      <td>140.0</td>\n",
       "      <td>24.587</td>\n",
       "      <td>NaN</td>\n",
       "      <td>0</td>\n",
       "      <td>Gas</td>\n",
       "      <td>0.95</td>\n",
       "      <td>4.22</td>\n",
       "      <td>0.000179</td>\n",
       "      <td>Noble gas</td>\n",
       "      <td>1868</td>\n",
       "    </tr>\n",
       "    <tr>\n",
       "      <th>2</th>\n",
       "      <td>3</td>\n",
       "      <td>Li</td>\n",
       "      <td>Lithium</td>\n",
       "      <td>7.000000</td>\n",
       "      <td>CC80FF</td>\n",
       "      <td>[He]2s1</td>\n",
       "      <td>0.98</td>\n",
       "      <td>182.0</td>\n",
       "      <td>5.392</td>\n",
       "      <td>0.618</td>\n",
       "      <td>+1</td>\n",
       "      <td>Solid</td>\n",
       "      <td>453.65</td>\n",
       "      <td>1615.00</td>\n",
       "      <td>0.534000</td>\n",
       "      <td>Alkali metal</td>\n",
       "      <td>1817</td>\n",
       "    </tr>\n",
       "    <tr>\n",
       "      <th>3</th>\n",
       "      <td>4</td>\n",
       "      <td>Be</td>\n",
       "      <td>Beryllium</td>\n",
       "      <td>9.012183</td>\n",
       "      <td>C2FF00</td>\n",
       "      <td>[He]2s2</td>\n",
       "      <td>1.57</td>\n",
       "      <td>153.0</td>\n",
       "      <td>9.323</td>\n",
       "      <td>NaN</td>\n",
       "      <td>+2</td>\n",
       "      <td>Solid</td>\n",
       "      <td>1560.00</td>\n",
       "      <td>2744.00</td>\n",
       "      <td>1.850000</td>\n",
       "      <td>Alkaline earth metal</td>\n",
       "      <td>1798</td>\n",
       "    </tr>\n",
       "    <tr>\n",
       "      <th>4</th>\n",
       "      <td>5</td>\n",
       "      <td>B</td>\n",
       "      <td>Boron</td>\n",
       "      <td>10.810000</td>\n",
       "      <td>FFB5B5</td>\n",
       "      <td>[He]2s2 2p1</td>\n",
       "      <td>2.04</td>\n",
       "      <td>192.0</td>\n",
       "      <td>8.298</td>\n",
       "      <td>0.277</td>\n",
       "      <td>+3</td>\n",
       "      <td>Solid</td>\n",
       "      <td>2348.00</td>\n",
       "      <td>4273.00</td>\n",
       "      <td>2.370000</td>\n",
       "      <td>Metalloid</td>\n",
       "      <td>1808</td>\n",
       "    </tr>\n",
       "  </tbody>\n",
       "</table>\n",
       "</div>"
      ],
      "text/plain": [
       "   AtomicNumber Symbol       Name  AtomicMass CPKHexColor  \\\n",
       "0             1      H   Hydrogen    1.008000      FFFFFF   \n",
       "1             2     He     Helium    4.002600      D9FFFF   \n",
       "2             3     Li    Lithium    7.000000      CC80FF   \n",
       "3             4     Be  Beryllium    9.012183      C2FF00   \n",
       "4             5      B      Boron   10.810000      FFB5B5   \n",
       "\n",
       "  ElectronConfiguration  Electronegativity  AtomicRadius  IonizationEnergy  \\\n",
       "0                   1s1               2.20         120.0            13.598   \n",
       "1                   1s2                NaN         140.0            24.587   \n",
       "2               [He]2s1               0.98         182.0             5.392   \n",
       "3               [He]2s2               1.57         153.0             9.323   \n",
       "4           [He]2s2 2p1               2.04         192.0             8.298   \n",
       "\n",
       "   ElectronAffinity OxidationStates StandardState  MeltingPoint  BoilingPoint  \\\n",
       "0             0.754          +1, -1           Gas         13.81         20.28   \n",
       "1               NaN               0           Gas          0.95          4.22   \n",
       "2             0.618              +1         Solid        453.65       1615.00   \n",
       "3               NaN              +2         Solid       1560.00       2744.00   \n",
       "4             0.277              +3         Solid       2348.00       4273.00   \n",
       "\n",
       "    Density            GroupBlock YearDiscovered  \n",
       "0  0.000090              Nonmetal           1766  \n",
       "1  0.000179             Noble gas           1868  \n",
       "2  0.534000          Alkali metal           1817  \n",
       "3  1.850000  Alkaline earth metal           1798  \n",
       "4  2.370000             Metalloid           1808  "
      ]
     },
     "execution_count": 16,
     "metadata": {},
     "output_type": "execute_result"
    }
   ],
   "source": [
    "periodic_data.head()"
   ]
  },
  {
   "cell_type": "code",
   "execution_count": 17,
   "metadata": {
    "collapsed": false
   },
   "outputs": [
    {
     "data": {
      "text/html": [
       "<div>\n",
       "<table border=\"1\" class=\"dataframe\">\n",
       "  <thead>\n",
       "    <tr style=\"text-align: right;\">\n",
       "      <th></th>\n",
       "      <th>AtomicNumber</th>\n",
       "      <th>Symbol</th>\n",
       "      <th>Name</th>\n",
       "      <th>AtomicMass</th>\n",
       "      <th>CPKHexColor</th>\n",
       "      <th>ElectronConfiguration</th>\n",
       "      <th>Electronegativity</th>\n",
       "      <th>AtomicRadius</th>\n",
       "      <th>IonizationEnergy</th>\n",
       "      <th>ElectronAffinity</th>\n",
       "      <th>OxidationStates</th>\n",
       "      <th>StandardState</th>\n",
       "      <th>MeltingPoint</th>\n",
       "      <th>BoilingPoint</th>\n",
       "      <th>Density</th>\n",
       "      <th>GroupBlock</th>\n",
       "      <th>YearDiscovered</th>\n",
       "    </tr>\n",
       "  </thead>\n",
       "  <tbody>\n",
       "    <tr>\n",
       "      <th>113</th>\n",
       "      <td>114</td>\n",
       "      <td>Fl</td>\n",
       "      <td>Flerovium</td>\n",
       "      <td>289.191</td>\n",
       "      <td>NaN</td>\n",
       "      <td>[Rn]7s2 7p2 5f14 6d10 (predicted)</td>\n",
       "      <td>NaN</td>\n",
       "      <td>180.0</td>\n",
       "      <td>NaN</td>\n",
       "      <td>NaN</td>\n",
       "      <td>NaN</td>\n",
       "      <td>Expected to be a Solid</td>\n",
       "      <td>NaN</td>\n",
       "      <td>NaN</td>\n",
       "      <td>NaN</td>\n",
       "      <td>Post-transition metal</td>\n",
       "      <td>1998</td>\n",
       "    </tr>\n",
       "    <tr>\n",
       "      <th>114</th>\n",
       "      <td>115</td>\n",
       "      <td>Mc</td>\n",
       "      <td>Moscovium</td>\n",
       "      <td>290.196</td>\n",
       "      <td>NaN</td>\n",
       "      <td>[Rn]7s2 7p3 5f14 6d10 (predicted)</td>\n",
       "      <td>NaN</td>\n",
       "      <td>187.0</td>\n",
       "      <td>NaN</td>\n",
       "      <td>NaN</td>\n",
       "      <td>NaN</td>\n",
       "      <td>Expected to be a Solid</td>\n",
       "      <td>NaN</td>\n",
       "      <td>NaN</td>\n",
       "      <td>NaN</td>\n",
       "      <td>Post-transition metal</td>\n",
       "      <td>2003</td>\n",
       "    </tr>\n",
       "    <tr>\n",
       "      <th>115</th>\n",
       "      <td>116</td>\n",
       "      <td>Lv</td>\n",
       "      <td>Livermorium</td>\n",
       "      <td>293.205</td>\n",
       "      <td>NaN</td>\n",
       "      <td>[Rn]7s2 7p4 5f14 6d10 (predicted)</td>\n",
       "      <td>NaN</td>\n",
       "      <td>183.0</td>\n",
       "      <td>NaN</td>\n",
       "      <td>NaN</td>\n",
       "      <td>NaN</td>\n",
       "      <td>Expected to be a Solid</td>\n",
       "      <td>NaN</td>\n",
       "      <td>NaN</td>\n",
       "      <td>NaN</td>\n",
       "      <td>Post-transition metal</td>\n",
       "      <td>2000</td>\n",
       "    </tr>\n",
       "    <tr>\n",
       "      <th>116</th>\n",
       "      <td>117</td>\n",
       "      <td>Ts</td>\n",
       "      <td>Tennessine</td>\n",
       "      <td>294.211</td>\n",
       "      <td>NaN</td>\n",
       "      <td>[Rn]7s2 7p5 5f14 6d10 (predicted)</td>\n",
       "      <td>NaN</td>\n",
       "      <td>138.0</td>\n",
       "      <td>NaN</td>\n",
       "      <td>NaN</td>\n",
       "      <td>NaN</td>\n",
       "      <td>Expected to be a Solid</td>\n",
       "      <td>NaN</td>\n",
       "      <td>NaN</td>\n",
       "      <td>NaN</td>\n",
       "      <td>Halogen</td>\n",
       "      <td>2010</td>\n",
       "    </tr>\n",
       "    <tr>\n",
       "      <th>117</th>\n",
       "      <td>118</td>\n",
       "      <td>Og</td>\n",
       "      <td>Oganesson</td>\n",
       "      <td>294.214</td>\n",
       "      <td>NaN</td>\n",
       "      <td>[Rn]7s2 7p6 5f14 6d10 (predicted)</td>\n",
       "      <td>NaN</td>\n",
       "      <td>NaN</td>\n",
       "      <td>NaN</td>\n",
       "      <td>NaN</td>\n",
       "      <td>NaN</td>\n",
       "      <td>Expected to be a Gas</td>\n",
       "      <td>NaN</td>\n",
       "      <td>NaN</td>\n",
       "      <td>NaN</td>\n",
       "      <td>Noble gas</td>\n",
       "      <td>2006</td>\n",
       "    </tr>\n",
       "  </tbody>\n",
       "</table>\n",
       "</div>"
      ],
      "text/plain": [
       "     AtomicNumber Symbol         Name  AtomicMass CPKHexColor  \\\n",
       "113           114     Fl    Flerovium     289.191         NaN   \n",
       "114           115     Mc    Moscovium     290.196         NaN   \n",
       "115           116     Lv  Livermorium     293.205         NaN   \n",
       "116           117     Ts   Tennessine     294.211         NaN   \n",
       "117           118     Og    Oganesson     294.214         NaN   \n",
       "\n",
       "                 ElectronConfiguration  Electronegativity  AtomicRadius  \\\n",
       "113  [Rn]7s2 7p2 5f14 6d10 (predicted)                NaN         180.0   \n",
       "114  [Rn]7s2 7p3 5f14 6d10 (predicted)                NaN         187.0   \n",
       "115  [Rn]7s2 7p4 5f14 6d10 (predicted)                NaN         183.0   \n",
       "116  [Rn]7s2 7p5 5f14 6d10 (predicted)                NaN         138.0   \n",
       "117  [Rn]7s2 7p6 5f14 6d10 (predicted)                NaN           NaN   \n",
       "\n",
       "     IonizationEnergy  ElectronAffinity OxidationStates  \\\n",
       "113               NaN               NaN             NaN   \n",
       "114               NaN               NaN             NaN   \n",
       "115               NaN               NaN             NaN   \n",
       "116               NaN               NaN             NaN   \n",
       "117               NaN               NaN             NaN   \n",
       "\n",
       "              StandardState  MeltingPoint  BoilingPoint  Density  \\\n",
       "113  Expected to be a Solid           NaN           NaN      NaN   \n",
       "114  Expected to be a Solid           NaN           NaN      NaN   \n",
       "115  Expected to be a Solid           NaN           NaN      NaN   \n",
       "116  Expected to be a Solid           NaN           NaN      NaN   \n",
       "117    Expected to be a Gas           NaN           NaN      NaN   \n",
       "\n",
       "                GroupBlock YearDiscovered  \n",
       "113  Post-transition metal           1998  \n",
       "114  Post-transition metal           2003  \n",
       "115  Post-transition metal           2000  \n",
       "116                Halogen           2010  \n",
       "117              Noble gas           2006  "
      ]
     },
     "execution_count": 17,
     "metadata": {},
     "output_type": "execute_result"
    }
   ],
   "source": [
    "periodic_data.tail()"
   ]
  },
  {
   "cell_type": "code",
   "execution_count": 18,
   "metadata": {
    "collapsed": false
   },
   "outputs": [
    {
     "name": "stdout",
     "output_type": "stream",
     "text": [
      "<class 'pandas.core.frame.DataFrame'>\n",
      "RangeIndex: 118 entries, 0 to 117\n",
      "Data columns (total 17 columns):\n",
      "AtomicNumber             118 non-null int64\n",
      "Symbol                   118 non-null object\n",
      "Name                     118 non-null object\n",
      "AtomicMass               118 non-null float64\n",
      "CPKHexColor              108 non-null object\n",
      "ElectronConfiguration    118 non-null object\n",
      "Electronegativity        95 non-null float64\n",
      "AtomicRadius             113 non-null float64\n",
      "IonizationEnergy         102 non-null float64\n",
      "ElectronAffinity         57 non-null float64\n",
      "OxidationStates          103 non-null object\n",
      "StandardState            118 non-null object\n",
      "MeltingPoint             103 non-null float64\n",
      "BoilingPoint             93 non-null float64\n",
      "Density                  96 non-null float64\n",
      "GroupBlock               118 non-null object\n",
      "YearDiscovered           118 non-null object\n",
      "dtypes: float64(8), int64(1), object(8)\n",
      "memory usage: 15.8+ KB\n"
     ]
    }
   ],
   "source": [
    "periodic_data.info()"
   ]
  },
  {
   "cell_type": "code",
   "execution_count": 19,
   "metadata": {
    "collapsed": false
   },
   "outputs": [
    {
     "name": "stderr",
     "output_type": "stream",
     "text": [
      "/Users/janash/anaconda/lib/python3.5/site-packages/numpy/lib/function_base.py:3834: RuntimeWarning: Invalid value encountered in percentile\n",
      "  RuntimeWarning)\n"
     ]
    },
    {
     "data": {
      "text/html": [
       "<div>\n",
       "<table border=\"1\" class=\"dataframe\">\n",
       "  <thead>\n",
       "    <tr style=\"text-align: right;\">\n",
       "      <th></th>\n",
       "      <th>AtomicNumber</th>\n",
       "      <th>AtomicMass</th>\n",
       "      <th>Electronegativity</th>\n",
       "      <th>AtomicRadius</th>\n",
       "      <th>IonizationEnergy</th>\n",
       "      <th>ElectronAffinity</th>\n",
       "      <th>MeltingPoint</th>\n",
       "      <th>BoilingPoint</th>\n",
       "      <th>Density</th>\n",
       "    </tr>\n",
       "  </thead>\n",
       "  <tbody>\n",
       "    <tr>\n",
       "      <th>count</th>\n",
       "      <td>118.000000</td>\n",
       "      <td>118.000000</td>\n",
       "      <td>95.000000</td>\n",
       "      <td>113.000000</td>\n",
       "      <td>102.000000</td>\n",
       "      <td>57.000000</td>\n",
       "      <td>103.000000</td>\n",
       "      <td>93.000000</td>\n",
       "      <td>96.000000</td>\n",
       "    </tr>\n",
       "    <tr>\n",
       "      <th>mean</th>\n",
       "      <td>59.500000</td>\n",
       "      <td>146.607635</td>\n",
       "      <td>1.732316</td>\n",
       "      <td>201.902655</td>\n",
       "      <td>7.997255</td>\n",
       "      <td>1.072140</td>\n",
       "      <td>1273.740553</td>\n",
       "      <td>2536.212473</td>\n",
       "      <td>7.608001</td>\n",
       "    </tr>\n",
       "    <tr>\n",
       "      <th>std</th>\n",
       "      <td>34.207699</td>\n",
       "      <td>89.845304</td>\n",
       "      <td>0.635187</td>\n",
       "      <td>42.025707</td>\n",
       "      <td>3.339066</td>\n",
       "      <td>0.879163</td>\n",
       "      <td>888.853859</td>\n",
       "      <td>1588.410919</td>\n",
       "      <td>5.878692</td>\n",
       "    </tr>\n",
       "    <tr>\n",
       "      <th>min</th>\n",
       "      <td>1.000000</td>\n",
       "      <td>1.008000</td>\n",
       "      <td>0.700000</td>\n",
       "      <td>120.000000</td>\n",
       "      <td>3.894000</td>\n",
       "      <td>0.079000</td>\n",
       "      <td>0.950000</td>\n",
       "      <td>4.220000</td>\n",
       "      <td>0.000090</td>\n",
       "    </tr>\n",
       "    <tr>\n",
       "      <th>25%</th>\n",
       "      <td>30.250000</td>\n",
       "      <td>66.480000</td>\n",
       "      <td>NaN</td>\n",
       "      <td>NaN</td>\n",
       "      <td>NaN</td>\n",
       "      <td>NaN</td>\n",
       "      <td>NaN</td>\n",
       "      <td>NaN</td>\n",
       "      <td>NaN</td>\n",
       "    </tr>\n",
       "    <tr>\n",
       "      <th>50%</th>\n",
       "      <td>59.500000</td>\n",
       "      <td>142.573850</td>\n",
       "      <td>NaN</td>\n",
       "      <td>NaN</td>\n",
       "      <td>NaN</td>\n",
       "      <td>NaN</td>\n",
       "      <td>NaN</td>\n",
       "      <td>NaN</td>\n",
       "      <td>NaN</td>\n",
       "    </tr>\n",
       "    <tr>\n",
       "      <th>75%</th>\n",
       "      <td>88.750000</td>\n",
       "      <td>226.777165</td>\n",
       "      <td>NaN</td>\n",
       "      <td>NaN</td>\n",
       "      <td>NaN</td>\n",
       "      <td>NaN</td>\n",
       "      <td>NaN</td>\n",
       "      <td>NaN</td>\n",
       "      <td>NaN</td>\n",
       "    </tr>\n",
       "    <tr>\n",
       "      <th>max</th>\n",
       "      <td>118.000000</td>\n",
       "      <td>294.214000</td>\n",
       "      <td>3.980000</td>\n",
       "      <td>348.000000</td>\n",
       "      <td>24.587000</td>\n",
       "      <td>3.617000</td>\n",
       "      <td>3823.000000</td>\n",
       "      <td>5869.000000</td>\n",
       "      <td>22.570000</td>\n",
       "    </tr>\n",
       "  </tbody>\n",
       "</table>\n",
       "</div>"
      ],
      "text/plain": [
       "       AtomicNumber  AtomicMass  Electronegativity  AtomicRadius  \\\n",
       "count    118.000000  118.000000          95.000000    113.000000   \n",
       "mean      59.500000  146.607635           1.732316    201.902655   \n",
       "std       34.207699   89.845304           0.635187     42.025707   \n",
       "min        1.000000    1.008000           0.700000    120.000000   \n",
       "25%       30.250000   66.480000                NaN           NaN   \n",
       "50%       59.500000  142.573850                NaN           NaN   \n",
       "75%       88.750000  226.777165                NaN           NaN   \n",
       "max      118.000000  294.214000           3.980000    348.000000   \n",
       "\n",
       "       IonizationEnergy  ElectronAffinity  MeltingPoint  BoilingPoint  \\\n",
       "count        102.000000         57.000000    103.000000     93.000000   \n",
       "mean           7.997255          1.072140   1273.740553   2536.212473   \n",
       "std            3.339066          0.879163    888.853859   1588.410919   \n",
       "min            3.894000          0.079000      0.950000      4.220000   \n",
       "25%                 NaN               NaN           NaN           NaN   \n",
       "50%                 NaN               NaN           NaN           NaN   \n",
       "75%                 NaN               NaN           NaN           NaN   \n",
       "max           24.587000          3.617000   3823.000000   5869.000000   \n",
       "\n",
       "         Density  \n",
       "count  96.000000  \n",
       "mean    7.608001  \n",
       "std     5.878692  \n",
       "min     0.000090  \n",
       "25%          NaN  \n",
       "50%          NaN  \n",
       "75%          NaN  \n",
       "max    22.570000  "
      ]
     },
     "execution_count": 19,
     "metadata": {},
     "output_type": "execute_result"
    }
   ],
   "source": [
    "periodic_data.describe()"
   ]
  },
  {
   "cell_type": "code",
   "execution_count": 20,
   "metadata": {
    "collapsed": false
   },
   "outputs": [
    {
     "data": {
      "text/plain": [
       "'0.18.1'"
      ]
     },
     "execution_count": 20,
     "metadata": {},
     "output_type": "execute_result"
    }
   ],
   "source": [
    "pd.__version__\n",
    "# See here https://github.com/pandas-dev/pandas/issues/14328"
   ]
  },
  {
   "cell_type": "code",
   "execution_count": 21,
   "metadata": {
    "collapsed": false
   },
   "outputs": [
    {
     "data": {
      "text/plain": [
       "AtomicNumber                           36\n",
       "Symbol                                 Kr\n",
       "Name                              Krypton\n",
       "AtomicMass                           83.8\n",
       "CPKHexColor                        5CB8D1\n",
       "ElectronConfiguration    [Ar]4s2 3d10 4p6\n",
       "Electronegativity                       3\n",
       "AtomicRadius                          202\n",
       "IonizationEnergy                       14\n",
       "ElectronAffinity                      NaN\n",
       "OxidationStates                         0\n",
       "StandardState                         Gas\n",
       "MeltingPoint                       115.79\n",
       "BoilingPoint                       119.93\n",
       "Density                          0.003733\n",
       "GroupBlock                      Noble gas\n",
       "YearDiscovered                       1898\n",
       "Name: 35, dtype: object"
      ]
     },
     "execution_count": 21,
     "metadata": {},
     "output_type": "execute_result"
    }
   ],
   "source": [
    "# This will access row 35 (counting starting at 0)\n",
    "periodic_data.iloc[35]"
   ]
  },
  {
   "cell_type": "code",
   "execution_count": 22,
   "metadata": {
    "collapsed": false
   },
   "outputs": [
    {
     "data": {
      "text/html": [
       "<div>\n",
       "<table border=\"1\" class=\"dataframe\">\n",
       "  <thead>\n",
       "    <tr style=\"text-align: right;\">\n",
       "      <th></th>\n",
       "      <th>AtomicNumber</th>\n",
       "      <th>Symbol</th>\n",
       "      <th>Name</th>\n",
       "      <th>AtomicMass</th>\n",
       "      <th>CPKHexColor</th>\n",
       "      <th>ElectronConfiguration</th>\n",
       "      <th>Electronegativity</th>\n",
       "      <th>AtomicRadius</th>\n",
       "      <th>IonizationEnergy</th>\n",
       "      <th>ElectronAffinity</th>\n",
       "      <th>OxidationStates</th>\n",
       "      <th>StandardState</th>\n",
       "      <th>MeltingPoint</th>\n",
       "      <th>BoilingPoint</th>\n",
       "      <th>Density</th>\n",
       "      <th>GroupBlock</th>\n",
       "      <th>YearDiscovered</th>\n",
       "    </tr>\n",
       "  </thead>\n",
       "  <tbody>\n",
       "    <tr>\n",
       "      <th>35</th>\n",
       "      <td>36</td>\n",
       "      <td>Kr</td>\n",
       "      <td>Krypton</td>\n",
       "      <td>83.80000</td>\n",
       "      <td>5CB8D1</td>\n",
       "      <td>[Ar]4s2 3d10 4p6</td>\n",
       "      <td>3.00</td>\n",
       "      <td>202.0</td>\n",
       "      <td>14.000</td>\n",
       "      <td>NaN</td>\n",
       "      <td>0</td>\n",
       "      <td>Gas</td>\n",
       "      <td>115.79</td>\n",
       "      <td>119.93</td>\n",
       "      <td>0.003733</td>\n",
       "      <td>Noble gas</td>\n",
       "      <td>1898</td>\n",
       "    </tr>\n",
       "    <tr>\n",
       "      <th>36</th>\n",
       "      <td>37</td>\n",
       "      <td>Rb</td>\n",
       "      <td>Rubidium</td>\n",
       "      <td>85.46800</td>\n",
       "      <td>702EB0</td>\n",
       "      <td>[Kr]5s1</td>\n",
       "      <td>0.82</td>\n",
       "      <td>303.0</td>\n",
       "      <td>4.177</td>\n",
       "      <td>0.468</td>\n",
       "      <td>+1</td>\n",
       "      <td>Solid</td>\n",
       "      <td>312.46</td>\n",
       "      <td>961.00</td>\n",
       "      <td>1.530000</td>\n",
       "      <td>Alkali metal</td>\n",
       "      <td>1861</td>\n",
       "    </tr>\n",
       "    <tr>\n",
       "      <th>37</th>\n",
       "      <td>38</td>\n",
       "      <td>Sr</td>\n",
       "      <td>Strontium</td>\n",
       "      <td>87.60000</td>\n",
       "      <td>00FF00</td>\n",
       "      <td>[Kr]5s2</td>\n",
       "      <td>0.95</td>\n",
       "      <td>249.0</td>\n",
       "      <td>5.695</td>\n",
       "      <td>NaN</td>\n",
       "      <td>+2</td>\n",
       "      <td>Solid</td>\n",
       "      <td>1050.00</td>\n",
       "      <td>1655.00</td>\n",
       "      <td>2.640000</td>\n",
       "      <td>Alkaline earth metal</td>\n",
       "      <td>1790</td>\n",
       "    </tr>\n",
       "    <tr>\n",
       "      <th>38</th>\n",
       "      <td>39</td>\n",
       "      <td>Y</td>\n",
       "      <td>Yttrium</td>\n",
       "      <td>88.90580</td>\n",
       "      <td>94FFFF</td>\n",
       "      <td>[Kr]5s2 4d1</td>\n",
       "      <td>1.22</td>\n",
       "      <td>219.0</td>\n",
       "      <td>6.217</td>\n",
       "      <td>0.307</td>\n",
       "      <td>+3</td>\n",
       "      <td>Solid</td>\n",
       "      <td>1795.00</td>\n",
       "      <td>3618.00</td>\n",
       "      <td>4.470000</td>\n",
       "      <td>Transition metal</td>\n",
       "      <td>1794</td>\n",
       "    </tr>\n",
       "    <tr>\n",
       "      <th>39</th>\n",
       "      <td>40</td>\n",
       "      <td>Zr</td>\n",
       "      <td>Zirconium</td>\n",
       "      <td>91.22000</td>\n",
       "      <td>94E0E0</td>\n",
       "      <td>[Kr]5s2 4d2</td>\n",
       "      <td>1.33</td>\n",
       "      <td>186.0</td>\n",
       "      <td>6.634</td>\n",
       "      <td>0.426</td>\n",
       "      <td>+4</td>\n",
       "      <td>Solid</td>\n",
       "      <td>2128.00</td>\n",
       "      <td>4682.00</td>\n",
       "      <td>6.520000</td>\n",
       "      <td>Transition metal</td>\n",
       "      <td>1789</td>\n",
       "    </tr>\n",
       "    <tr>\n",
       "      <th>40</th>\n",
       "      <td>41</td>\n",
       "      <td>Nb</td>\n",
       "      <td>Niobium</td>\n",
       "      <td>92.90640</td>\n",
       "      <td>73C2C9</td>\n",
       "      <td>[Kr]5s1 4d4</td>\n",
       "      <td>1.60</td>\n",
       "      <td>207.0</td>\n",
       "      <td>6.759</td>\n",
       "      <td>0.893</td>\n",
       "      <td>+5, +3</td>\n",
       "      <td>Solid</td>\n",
       "      <td>2750.00</td>\n",
       "      <td>5017.00</td>\n",
       "      <td>8.570000</td>\n",
       "      <td>Transition metal</td>\n",
       "      <td>1801</td>\n",
       "    </tr>\n",
       "    <tr>\n",
       "      <th>41</th>\n",
       "      <td>42</td>\n",
       "      <td>Mo</td>\n",
       "      <td>Molybdenum</td>\n",
       "      <td>96.00000</td>\n",
       "      <td>54B5B5</td>\n",
       "      <td>[Kr]5s1 4d5</td>\n",
       "      <td>2.16</td>\n",
       "      <td>209.0</td>\n",
       "      <td>7.092</td>\n",
       "      <td>0.746</td>\n",
       "      <td>+6</td>\n",
       "      <td>Solid</td>\n",
       "      <td>2896.00</td>\n",
       "      <td>4912.00</td>\n",
       "      <td>10.200000</td>\n",
       "      <td>Transition metal</td>\n",
       "      <td>1778</td>\n",
       "    </tr>\n",
       "    <tr>\n",
       "      <th>42</th>\n",
       "      <td>43</td>\n",
       "      <td>Tc</td>\n",
       "      <td>Technetium</td>\n",
       "      <td>97.90721</td>\n",
       "      <td>3B9E9E</td>\n",
       "      <td>[Kr]5s2 4d5</td>\n",
       "      <td>1.90</td>\n",
       "      <td>209.0</td>\n",
       "      <td>7.280</td>\n",
       "      <td>0.550</td>\n",
       "      <td>+7, +6, +4</td>\n",
       "      <td>Solid</td>\n",
       "      <td>2430.00</td>\n",
       "      <td>4538.00</td>\n",
       "      <td>11.000000</td>\n",
       "      <td>Transition metal</td>\n",
       "      <td>1937</td>\n",
       "    </tr>\n",
       "    <tr>\n",
       "      <th>43</th>\n",
       "      <td>44</td>\n",
       "      <td>Ru</td>\n",
       "      <td>Ruthenium</td>\n",
       "      <td>101.10000</td>\n",
       "      <td>248F8F</td>\n",
       "      <td>[Kr]5s1 4d7</td>\n",
       "      <td>2.20</td>\n",
       "      <td>207.0</td>\n",
       "      <td>7.361</td>\n",
       "      <td>1.050</td>\n",
       "      <td>+3</td>\n",
       "      <td>Solid</td>\n",
       "      <td>2607.00</td>\n",
       "      <td>4423.00</td>\n",
       "      <td>12.100000</td>\n",
       "      <td>Transition metal</td>\n",
       "      <td>1827</td>\n",
       "    </tr>\n",
       "    <tr>\n",
       "      <th>44</th>\n",
       "      <td>45</td>\n",
       "      <td>Rh</td>\n",
       "      <td>Rhodium</td>\n",
       "      <td>102.90550</td>\n",
       "      <td>0A7D8C</td>\n",
       "      <td>[Kr]5s1 4d8</td>\n",
       "      <td>2.28</td>\n",
       "      <td>195.0</td>\n",
       "      <td>7.459</td>\n",
       "      <td>1.137</td>\n",
       "      <td>+3</td>\n",
       "      <td>Solid</td>\n",
       "      <td>2237.00</td>\n",
       "      <td>3968.00</td>\n",
       "      <td>12.400000</td>\n",
       "      <td>Transition metal</td>\n",
       "      <td>1803</td>\n",
       "    </tr>\n",
       "  </tbody>\n",
       "</table>\n",
       "</div>"
      ],
      "text/plain": [
       "    AtomicNumber Symbol        Name  AtomicMass CPKHexColor  \\\n",
       "35            36     Kr     Krypton    83.80000      5CB8D1   \n",
       "36            37     Rb    Rubidium    85.46800      702EB0   \n",
       "37            38     Sr   Strontium    87.60000      00FF00   \n",
       "38            39      Y     Yttrium    88.90580      94FFFF   \n",
       "39            40     Zr   Zirconium    91.22000      94E0E0   \n",
       "40            41     Nb     Niobium    92.90640      73C2C9   \n",
       "41            42     Mo  Molybdenum    96.00000      54B5B5   \n",
       "42            43     Tc  Technetium    97.90721      3B9E9E   \n",
       "43            44     Ru   Ruthenium   101.10000      248F8F   \n",
       "44            45     Rh     Rhodium   102.90550      0A7D8C   \n",
       "\n",
       "   ElectronConfiguration  Electronegativity  AtomicRadius  IonizationEnergy  \\\n",
       "35      [Ar]4s2 3d10 4p6               3.00         202.0            14.000   \n",
       "36               [Kr]5s1               0.82         303.0             4.177   \n",
       "37               [Kr]5s2               0.95         249.0             5.695   \n",
       "38           [Kr]5s2 4d1               1.22         219.0             6.217   \n",
       "39           [Kr]5s2 4d2               1.33         186.0             6.634   \n",
       "40           [Kr]5s1 4d4               1.60         207.0             6.759   \n",
       "41           [Kr]5s1 4d5               2.16         209.0             7.092   \n",
       "42           [Kr]5s2 4d5               1.90         209.0             7.280   \n",
       "43           [Kr]5s1 4d7               2.20         207.0             7.361   \n",
       "44           [Kr]5s1 4d8               2.28         195.0             7.459   \n",
       "\n",
       "    ElectronAffinity OxidationStates StandardState  MeltingPoint  \\\n",
       "35               NaN               0           Gas        115.79   \n",
       "36             0.468              +1         Solid        312.46   \n",
       "37               NaN              +2         Solid       1050.00   \n",
       "38             0.307              +3         Solid       1795.00   \n",
       "39             0.426              +4         Solid       2128.00   \n",
       "40             0.893          +5, +3         Solid       2750.00   \n",
       "41             0.746              +6         Solid       2896.00   \n",
       "42             0.550      +7, +6, +4         Solid       2430.00   \n",
       "43             1.050              +3         Solid       2607.00   \n",
       "44             1.137              +3         Solid       2237.00   \n",
       "\n",
       "    BoilingPoint    Density            GroupBlock YearDiscovered  \n",
       "35        119.93   0.003733             Noble gas           1898  \n",
       "36        961.00   1.530000          Alkali metal           1861  \n",
       "37       1655.00   2.640000  Alkaline earth metal           1790  \n",
       "38       3618.00   4.470000      Transition metal           1794  \n",
       "39       4682.00   6.520000      Transition metal           1789  \n",
       "40       5017.00   8.570000      Transition metal           1801  \n",
       "41       4912.00  10.200000      Transition metal           1778  \n",
       "42       4538.00  11.000000      Transition metal           1937  \n",
       "43       4423.00  12.100000      Transition metal           1827  \n",
       "44       3968.00  12.400000      Transition metal           1803  "
      ]
     },
     "execution_count": 22,
     "metadata": {},
     "output_type": "execute_result"
    }
   ],
   "source": [
    "periodic_data.iloc[35:45]"
   ]
  },
  {
   "cell_type": "code",
   "execution_count": 23,
   "metadata": {
    "collapsed": false
   },
   "outputs": [
    {
     "data": {
      "text/plain": [
       "'Helium'"
      ]
     },
     "execution_count": 23,
     "metadata": {},
     "output_type": "execute_result"
    }
   ],
   "source": [
    "# This selects the row 1 and column 2.\n",
    "periodic_data.iloc[1, 2]"
   ]
  },
  {
   "cell_type": "code",
   "execution_count": 24,
   "metadata": {
    "collapsed": false
   },
   "outputs": [],
   "source": [
    "periodic_data.set_index('Symbol', inplace=True)"
   ]
  },
  {
   "cell_type": "code",
   "execution_count": 25,
   "metadata": {
    "collapsed": false
   },
   "outputs": [
    {
     "data": {
      "text/plain": [
       "AtomicNumber                           36\n",
       "Name                              Krypton\n",
       "AtomicMass                           83.8\n",
       "CPKHexColor                        5CB8D1\n",
       "ElectronConfiguration    [Ar]4s2 3d10 4p6\n",
       "Electronegativity                       3\n",
       "AtomicRadius                          202\n",
       "IonizationEnergy                       14\n",
       "ElectronAffinity                      NaN\n",
       "OxidationStates                         0\n",
       "StandardState                         Gas\n",
       "MeltingPoint                       115.79\n",
       "BoilingPoint                       119.93\n",
       "Density                          0.003733\n",
       "GroupBlock                      Noble gas\n",
       "YearDiscovered                       1898\n",
       "Name: Kr, dtype: object"
      ]
     },
     "execution_count": 25,
     "metadata": {},
     "output_type": "execute_result"
    }
   ],
   "source": [
    "periodic_data.loc['Kr']"
   ]
  },
  {
   "cell_type": "code",
   "execution_count": 26,
   "metadata": {
    "collapsed": false
   },
   "outputs": [
    {
     "name": "stdout",
     "output_type": "stream",
     "text": [
      "Actinide 6.168071428571429 0.3671688909827392\n",
      "Symbol\n",
      "Ac    5.170\n",
      "Th    6.080\n",
      "Pa    5.890\n",
      "U     6.194\n",
      "Np    6.266\n",
      "Pu    6.060\n",
      "Am    5.993\n",
      "Cm    6.020\n",
      "Bk    6.230\n",
      "Cf    6.300\n",
      "Es    6.420\n",
      "Fm    6.500\n",
      "Md    6.580\n",
      "No    6.650\n",
      "Lr      NaN\n",
      "Name: IonizationEnergy, dtype: float64\n",
      "Alkali metal 4.473833333333332 0.6413614945307106\n",
      "Symbol\n",
      "Li    5.392\n",
      "Na    5.139\n",
      "K     4.341\n",
      "Rb    4.177\n",
      "Cs    3.894\n",
      "Fr    3.900\n",
      "Name: IonizationEnergy, dtype: float64\n",
      "Alkaline earth metal 6.544666666666667 1.6259307078306464\n",
      "Symbol\n",
      "Be    9.323\n",
      "Mg    7.646\n",
      "Ca    6.113\n",
      "Sr    5.695\n",
      "Ba    5.212\n",
      "Ra    5.279\n",
      "Name: IonizationEnergy, dtype: float64\n",
      "Halogen 12.4312 3.0862713263742703\n",
      "Symbol\n",
      "F     17.423\n",
      "Cl    12.968\n",
      "Br    11.814\n",
      "I     10.451\n",
      "At     9.500\n",
      "Ts       NaN\n",
      "Name: IonizationEnergy, dtype: float64\n",
      "Lanthanide 5.7943999999999996 0.291933162605024\n",
      "Symbol\n",
      "La    5.577\n",
      "Ce    5.539\n",
      "Pr    5.464\n",
      "Nd    5.525\n",
      "Pm    5.550\n",
      "Sm    5.644\n",
      "Eu    5.670\n",
      "Gd    6.150\n",
      "Tb    5.864\n",
      "Dy    5.939\n",
      "Ho    6.022\n",
      "Er    6.108\n",
      "Tm    6.184\n",
      "Yb    6.254\n",
      "Lu    5.426\n",
      "Name: IonizationEnergy, dtype: float64\n",
      "Metalloid 8.604571428571429 0.6404654185675851\n",
      "Symbol\n",
      "B     8.298\n",
      "Si    8.152\n",
      "Ge    7.900\n",
      "As    9.815\n",
      "Sb    8.640\n",
      "Te    9.010\n",
      "Po    8.417\n",
      "Name: IonizationEnergy, dtype: float64\n",
      "Noble gas 16.4645 5.478334737856022\n",
      "Symbol\n",
      "He    24.587\n",
      "Ne    21.565\n",
      "Ar    15.760\n",
      "Kr    14.000\n",
      "Xe    12.130\n",
      "Rn    10.745\n",
      "Og       NaN\n",
      "Name: IonizationEnergy, dtype: float64\n",
      "Nonmetal 11.944142857142856 1.9214021293985137\n",
      "Symbol\n",
      "H     13.598\n",
      "C     11.260\n",
      "N     14.534\n",
      "O     13.618\n",
      "P     10.487\n",
      "S     10.360\n",
      "Se     9.752\n",
      "Name: IonizationEnergy, dtype: float64\n",
      "Post-transition metal 6.561285714285715 0.7447719369681151\n",
      "Symbol\n",
      "Al    5.986\n",
      "Ga    5.999\n",
      "In    5.786\n",
      "Sn    7.344\n",
      "Tl    6.108\n",
      "Pb    7.417\n",
      "Bi    7.289\n",
      "Nh      NaN\n",
      "Fl      NaN\n",
      "Mc      NaN\n",
      "Lv      NaN\n",
      "Name: IonizationEnergy, dtype: float64\n",
      "Transition metal 7.780241379310342 1.0193387091349404\n",
      "Symbol\n",
      "Sc     6.561\n",
      "Ti     6.828\n",
      "V      6.746\n",
      "Cr     6.767\n",
      "Mn     7.434\n",
      "Fe     7.902\n",
      "Co     7.881\n",
      "Ni     7.640\n",
      "Cu     7.726\n",
      "Zn     9.394\n",
      "Y      6.217\n",
      "Zr     6.634\n",
      "Nb     6.759\n",
      "Mo     7.092\n",
      "Tc     7.280\n",
      "Ru     7.361\n",
      "Rh     7.459\n",
      "Pd     8.337\n",
      "Ag     7.576\n",
      "Cd     8.994\n",
      "Hf     6.825\n",
      "Ta     7.890\n",
      "W      7.980\n",
      "Re     7.880\n",
      "Os     8.700\n",
      "Ir     9.100\n",
      "Pt     9.000\n",
      "Au     9.226\n",
      "Hg    10.438\n",
      "Rf       NaN\n",
      "Db       NaN\n",
      "Sg       NaN\n",
      "Bh       NaN\n",
      "Hs       NaN\n",
      "Mt       NaN\n",
      "Ds       NaN\n",
      "Rg       NaN\n",
      "Cn       NaN\n",
      "Name: IonizationEnergy, dtype: float64\n"
     ]
    }
   ],
   "source": [
    "import matplotlib.pyplot as plt\n",
    "\n",
    "group_blocks = periodic_data.groupby(by='GroupBlock')\n",
    "\n",
    "for key, group in group_blocks:\n",
    "    print(key, group['IonizationEnergy'].mean(), group['IonizationEnergy'].std())\n",
    "    print(group['IonizationEnergy'])"
   ]
  },
  {
   "cell_type": "code",
   "execution_count": null,
   "metadata": {
    "collapsed": true
   },
   "outputs": [],
   "source": []
  },
  {
   "cell_type": "code",
   "execution_count": null,
   "metadata": {
    "collapsed": false
   },
   "outputs": [],
   "source": []
  },
  {
   "cell_type": "code",
   "execution_count": 27,
   "metadata": {
    "collapsed": false
   },
   "outputs": [
    {
     "data": {
      "text/plain": [
       "<matplotlib.axes._subplots.AxesSubplot at 0x11ecbd4e0>"
      ]
     },
     "execution_count": 27,
     "metadata": {},
     "output_type": "execute_result"
    }
   ],
   "source": [
    "periodic_data.plot()"
   ]
  },
  {
   "cell_type": "code",
   "execution_count": 28,
   "metadata": {
    "collapsed": false
   },
   "outputs": [
    {
     "name": "stdout",
     "output_type": "stream",
     "text": [
      "Help on package pandas:\n",
      "\n",
      "NAME\n",
      "    pandas\n",
      "\n",
      "DESCRIPTION\n",
      "    pandas - a powerful data analysis and manipulation library for Python\n",
      "    =====================================================================\n",
      "    \n",
      "    See http://pandas.pydata.org/ for full documentation. Otherwise, see the\n",
      "    docstrings of the various objects in the pandas namespace:\n",
      "    \n",
      "    Series\n",
      "    DataFrame\n",
      "    Panel\n",
      "    Index\n",
      "    DatetimeIndex\n",
      "    HDFStore\n",
      "    bdate_range\n",
      "    date_range\n",
      "    read_csv\n",
      "    read_fwf\n",
      "    read_table\n",
      "    ols\n",
      "\n",
      "PACKAGE CONTENTS\n",
      "    _period\n",
      "    _sparse\n",
      "    _testing\n",
      "    _version\n",
      "    algos\n",
      "    compat (package)\n",
      "    computation (package)\n",
      "    core (package)\n",
      "    formats (package)\n",
      "    hashtable\n",
      "    index\n",
      "    indexes (package)\n",
      "    info\n",
      "    io (package)\n",
      "    json\n",
      "    lib\n",
      "    msgpack (package)\n",
      "    parser\n",
      "    rpy (package)\n",
      "    sandbox (package)\n",
      "    sparse (package)\n",
      "    stats (package)\n",
      "    tests (package)\n",
      "    tools (package)\n",
      "    tseries (package)\n",
      "    tslib\n",
      "    types (package)\n",
      "    util (package)\n",
      "\n",
      "SUBMODULES\n",
      "    datetools\n",
      "    offsets\n",
      "\n",
      "DATA\n",
      "    IndexSlice = <pandas.core.indexing._IndexSlice object>\n",
      "    NaT = NaT\n",
      "    __docformat__ = 'restructuredtext'\n",
      "    dependency = 'dateutil'\n",
      "    describe_option = <pandas.core.config.CallableDynamicDoc object>\n",
      "    get_option = <pandas.core.config.CallableDynamicDoc object>\n",
      "    hard_dependencies = ('numpy', 'pytz', 'dateutil')\n",
      "    missing_dependencies = []\n",
      "    options = <pandas.core.config.DictWrapper object>\n",
      "    plot_params = {'xaxis.compat': False}\n",
      "    reset_option = <pandas.core.config.CallableDynamicDoc object>\n",
      "    set_option = <pandas.core.config.CallableDynamicDoc object>\n",
      "\n",
      "VERSION\n",
      "    0.18.1\n",
      "\n",
      "FILE\n",
      "    /Users/janash/anaconda/lib/python3.5/site-packages/pandas/__init__.py\n",
      "\n",
      "\n"
     ]
    }
   ],
   "source": [
    "help(pd)"
   ]
  },
  {
   "cell_type": "code",
   "execution_count": 29,
   "metadata": {
    "collapsed": false
   },
   "outputs": [
    {
     "name": "stdout",
     "output_type": "stream",
     "text": [
      "Help on package pandas.core in pandas:\n",
      "\n",
      "NAME\n",
      "    pandas.core\n",
      "\n",
      "PACKAGE CONTENTS\n",
      "    algorithms\n",
      "    api\n",
      "    base\n",
      "    categorical\n",
      "    common\n",
      "    config\n",
      "    config_init\n",
      "    convert\n",
      "    datetools\n",
      "    frame\n",
      "    generic\n",
      "    groupby\n",
      "    index\n",
      "    indexing\n",
      "    internals\n",
      "    missing\n",
      "    nanops\n",
      "    ops\n",
      "    panel\n",
      "    panel4d\n",
      "    panelnd\n",
      "    reshape\n",
      "    series\n",
      "    sparse\n",
      "    strings\n",
      "    window\n",
      "\n",
      "FILE\n",
      "    /Users/janash/anaconda/lib/python3.5/site-packages/pandas/core/__init__.py\n",
      "\n",
      "\n"
     ]
    }
   ],
   "source": [
    "help(pd.core)"
   ]
  },
  {
   "cell_type": "code",
   "execution_count": 31,
   "metadata": {
    "collapsed": false
   },
   "outputs": [
    {
     "data": {
      "text/html": [
       "<div>\n",
       "<table border=\"1\" class=\"dataframe\">\n",
       "  <thead>\n",
       "    <tr style=\"text-align: right;\">\n",
       "      <th></th>\n",
       "      <th>AtomicNumber</th>\n",
       "      <th>Name</th>\n",
       "      <th>AtomicMass</th>\n",
       "      <th>CPKHexColor</th>\n",
       "      <th>ElectronConfiguration</th>\n",
       "      <th>Electronegativity</th>\n",
       "      <th>AtomicRadius</th>\n",
       "      <th>IonizationEnergy</th>\n",
       "      <th>ElectronAffinity</th>\n",
       "      <th>OxidationStates</th>\n",
       "      <th>StandardState</th>\n",
       "      <th>MeltingPoint</th>\n",
       "      <th>BoilingPoint</th>\n",
       "      <th>Density</th>\n",
       "      <th>GroupBlock</th>\n",
       "      <th>YearDiscovered</th>\n",
       "    </tr>\n",
       "    <tr>\n",
       "      <th>Symbol</th>\n",
       "      <th></th>\n",
       "      <th></th>\n",
       "      <th></th>\n",
       "      <th></th>\n",
       "      <th></th>\n",
       "      <th></th>\n",
       "      <th></th>\n",
       "      <th></th>\n",
       "      <th></th>\n",
       "      <th></th>\n",
       "      <th></th>\n",
       "      <th></th>\n",
       "      <th></th>\n",
       "      <th></th>\n",
       "      <th></th>\n",
       "      <th></th>\n",
       "    </tr>\n",
       "  </thead>\n",
       "  <tbody>\n",
       "    <tr>\n",
       "      <th>He</th>\n",
       "      <td>2</td>\n",
       "      <td>Helium</td>\n",
       "      <td>4.0026</td>\n",
       "      <td>D9FFFF</td>\n",
       "      <td>1s2</td>\n",
       "      <td>NaN</td>\n",
       "      <td>140.0</td>\n",
       "      <td>24.587</td>\n",
       "      <td>NaN</td>\n",
       "      <td>0</td>\n",
       "      <td>Gas</td>\n",
       "      <td>0.95</td>\n",
       "      <td>4.22</td>\n",
       "      <td>0.000179</td>\n",
       "      <td>Noble gas</td>\n",
       "      <td>1868</td>\n",
       "    </tr>\n",
       "  </tbody>\n",
       "</table>\n",
       "</div>"
      ],
      "text/plain": [
       "        AtomicNumber    Name  AtomicMass CPKHexColor ElectronConfiguration  \\\n",
       "Symbol                                                                       \n",
       "He                 2  Helium      4.0026      D9FFFF                   1s2   \n",
       "\n",
       "        Electronegativity  AtomicRadius  IonizationEnergy  ElectronAffinity  \\\n",
       "Symbol                                                                        \n",
       "He                    NaN         140.0            24.587               NaN   \n",
       "\n",
       "       OxidationStates StandardState  MeltingPoint  BoilingPoint   Density  \\\n",
       "Symbol                                                                       \n",
       "He                   0           Gas          0.95          4.22  0.000179   \n",
       "\n",
       "       GroupBlock YearDiscovered  \n",
       "Symbol                            \n",
       "He      Noble gas           1868  "
      ]
     },
     "execution_count": 31,
     "metadata": {},
     "output_type": "execute_result"
    }
   ],
   "source": [
    "periodic_data.query('Name == \"Helium\"')"
   ]
  },
  {
   "cell_type": "code",
   "execution_count": 32,
   "metadata": {
    "collapsed": false
   },
   "outputs": [
    {
     "ename": "AttributeError",
     "evalue": "'Load' object has no attribute '__name__'",
     "output_type": "error",
     "traceback": [
      "\u001b[0;31m---------------------------------------------------------------------------\u001b[0m",
      "\u001b[0;31mAttributeError\u001b[0m                            Traceback (most recent call last)",
      "\u001b[0;32m<ipython-input-32-79cd67e02655>\u001b[0m in \u001b[0;36m<module>\u001b[0;34m()\u001b[0m\n\u001b[0;32m----> 1\u001b[0;31m \u001b[0mperiodic_data\u001b[0m\u001b[0;34m.\u001b[0m\u001b[0mquery\u001b[0m\u001b[0;34m(\u001b[0m\u001b[0;34m\"Name.str.contain('ium')\"\u001b[0m\u001b[0;34m)\u001b[0m\u001b[0;34m\u001b[0m\u001b[0m\n\u001b[0m",
      "\u001b[0;32m/Users/janash/anaconda/lib/python3.5/site-packages/pandas/core/frame.py\u001b[0m in \u001b[0;36mquery\u001b[0;34m(self, expr, inplace, **kwargs)\u001b[0m\n\u001b[1;32m   2146\u001b[0m         \u001b[0mkwargs\u001b[0m\u001b[0;34m[\u001b[0m\u001b[0;34m'level'\u001b[0m\u001b[0;34m]\u001b[0m \u001b[0;34m=\u001b[0m \u001b[0mkwargs\u001b[0m\u001b[0;34m.\u001b[0m\u001b[0mpop\u001b[0m\u001b[0;34m(\u001b[0m\u001b[0;34m'level'\u001b[0m\u001b[0;34m,\u001b[0m \u001b[0;36m0\u001b[0m\u001b[0;34m)\u001b[0m \u001b[0;34m+\u001b[0m \u001b[0;36m1\u001b[0m\u001b[0;34m\u001b[0m\u001b[0m\n\u001b[1;32m   2147\u001b[0m         \u001b[0mkwargs\u001b[0m\u001b[0;34m[\u001b[0m\u001b[0;34m'target'\u001b[0m\u001b[0;34m]\u001b[0m \u001b[0;34m=\u001b[0m \u001b[0;32mNone\u001b[0m\u001b[0;34m\u001b[0m\u001b[0m\n\u001b[0;32m-> 2148\u001b[0;31m         \u001b[0mres\u001b[0m \u001b[0;34m=\u001b[0m \u001b[0mself\u001b[0m\u001b[0;34m.\u001b[0m\u001b[0meval\u001b[0m\u001b[0;34m(\u001b[0m\u001b[0mexpr\u001b[0m\u001b[0;34m,\u001b[0m \u001b[0;34m**\u001b[0m\u001b[0mkwargs\u001b[0m\u001b[0;34m)\u001b[0m\u001b[0;34m\u001b[0m\u001b[0m\n\u001b[0m\u001b[1;32m   2149\u001b[0m \u001b[0;34m\u001b[0m\u001b[0m\n\u001b[1;32m   2150\u001b[0m         \u001b[0;32mtry\u001b[0m\u001b[0;34m:\u001b[0m\u001b[0;34m\u001b[0m\u001b[0m\n",
      "\u001b[0;32m/Users/janash/anaconda/lib/python3.5/site-packages/pandas/core/frame.py\u001b[0m in \u001b[0;36meval\u001b[0;34m(self, expr, inplace, **kwargs)\u001b[0m\n\u001b[1;32m   2215\u001b[0m             \u001b[0mkwargs\u001b[0m\u001b[0;34m[\u001b[0m\u001b[0;34m'target'\u001b[0m\u001b[0;34m]\u001b[0m \u001b[0;34m=\u001b[0m \u001b[0mself\u001b[0m\u001b[0;34m\u001b[0m\u001b[0m\n\u001b[1;32m   2216\u001b[0m         \u001b[0mkwargs\u001b[0m\u001b[0;34m[\u001b[0m\u001b[0;34m'resolvers'\u001b[0m\u001b[0;34m]\u001b[0m \u001b[0;34m=\u001b[0m \u001b[0mkwargs\u001b[0m\u001b[0;34m.\u001b[0m\u001b[0mget\u001b[0m\u001b[0;34m(\u001b[0m\u001b[0;34m'resolvers'\u001b[0m\u001b[0;34m,\u001b[0m \u001b[0;34m(\u001b[0m\u001b[0;34m)\u001b[0m\u001b[0;34m)\u001b[0m \u001b[0;34m+\u001b[0m \u001b[0mresolvers\u001b[0m\u001b[0;34m\u001b[0m\u001b[0m\n\u001b[0;32m-> 2217\u001b[0;31m         \u001b[0;32mreturn\u001b[0m \u001b[0m_eval\u001b[0m\u001b[0;34m(\u001b[0m\u001b[0mexpr\u001b[0m\u001b[0;34m,\u001b[0m \u001b[0minplace\u001b[0m\u001b[0;34m=\u001b[0m\u001b[0minplace\u001b[0m\u001b[0;34m,\u001b[0m \u001b[0;34m**\u001b[0m\u001b[0mkwargs\u001b[0m\u001b[0;34m)\u001b[0m\u001b[0;34m\u001b[0m\u001b[0m\n\u001b[0m\u001b[1;32m   2218\u001b[0m \u001b[0;34m\u001b[0m\u001b[0m\n\u001b[1;32m   2219\u001b[0m     \u001b[0;32mdef\u001b[0m \u001b[0mselect_dtypes\u001b[0m\u001b[0;34m(\u001b[0m\u001b[0mself\u001b[0m\u001b[0;34m,\u001b[0m \u001b[0minclude\u001b[0m\u001b[0;34m=\u001b[0m\u001b[0;32mNone\u001b[0m\u001b[0;34m,\u001b[0m \u001b[0mexclude\u001b[0m\u001b[0;34m=\u001b[0m\u001b[0;32mNone\u001b[0m\u001b[0;34m)\u001b[0m\u001b[0;34m:\u001b[0m\u001b[0;34m\u001b[0m\u001b[0m\n",
      "\u001b[0;32m/Users/janash/anaconda/lib/python3.5/site-packages/pandas/computation/eval.py\u001b[0m in \u001b[0;36meval\u001b[0;34m(expr, parser, engine, truediv, local_dict, global_dict, resolvers, level, target, inplace)\u001b[0m\n\u001b[1;32m    258\u001b[0m \u001b[0;34m\u001b[0m\u001b[0m\n\u001b[1;32m    259\u001b[0m         parsed_expr = Expr(expr, engine=engine, parser=parser, env=env,\n\u001b[0;32m--> 260\u001b[0;31m                            truediv=truediv)\n\u001b[0m\u001b[1;32m    261\u001b[0m \u001b[0;34m\u001b[0m\u001b[0m\n\u001b[1;32m    262\u001b[0m         \u001b[0;31m# construct the engine and evaluate the parsed expression\u001b[0m\u001b[0;34m\u001b[0m\u001b[0;34m\u001b[0m\u001b[0m\n",
      "\u001b[0;32m/Users/janash/anaconda/lib/python3.5/site-packages/pandas/computation/expr.py\u001b[0m in \u001b[0;36m__init__\u001b[0;34m(self, expr, engine, parser, env, truediv, level)\u001b[0m\n\u001b[1;32m    708\u001b[0m         \u001b[0mself\u001b[0m\u001b[0;34m.\u001b[0m\u001b[0menv\u001b[0m\u001b[0;34m.\u001b[0m\u001b[0mscope\u001b[0m\u001b[0;34m[\u001b[0m\u001b[0;34m'truediv'\u001b[0m\u001b[0;34m]\u001b[0m \u001b[0;34m=\u001b[0m \u001b[0mtruediv\u001b[0m\u001b[0;34m\u001b[0m\u001b[0m\n\u001b[1;32m    709\u001b[0m         \u001b[0mself\u001b[0m\u001b[0;34m.\u001b[0m\u001b[0m_visitor\u001b[0m \u001b[0;34m=\u001b[0m \u001b[0m_parsers\u001b[0m\u001b[0;34m[\u001b[0m\u001b[0mparser\u001b[0m\u001b[0;34m]\u001b[0m\u001b[0;34m(\u001b[0m\u001b[0mself\u001b[0m\u001b[0;34m.\u001b[0m\u001b[0menv\u001b[0m\u001b[0;34m,\u001b[0m \u001b[0mself\u001b[0m\u001b[0;34m.\u001b[0m\u001b[0mengine\u001b[0m\u001b[0;34m,\u001b[0m \u001b[0mself\u001b[0m\u001b[0;34m.\u001b[0m\u001b[0mparser\u001b[0m\u001b[0;34m)\u001b[0m\u001b[0;34m\u001b[0m\u001b[0m\n\u001b[0;32m--> 710\u001b[0;31m         \u001b[0mself\u001b[0m\u001b[0;34m.\u001b[0m\u001b[0mterms\u001b[0m \u001b[0;34m=\u001b[0m \u001b[0mself\u001b[0m\u001b[0;34m.\u001b[0m\u001b[0mparse\u001b[0m\u001b[0;34m(\u001b[0m\u001b[0;34m)\u001b[0m\u001b[0;34m\u001b[0m\u001b[0m\n\u001b[0m\u001b[1;32m    711\u001b[0m \u001b[0;34m\u001b[0m\u001b[0m\n\u001b[1;32m    712\u001b[0m     \u001b[0;34m@\u001b[0m\u001b[0mproperty\u001b[0m\u001b[0;34m\u001b[0m\u001b[0m\n",
      "\u001b[0;32m/Users/janash/anaconda/lib/python3.5/site-packages/pandas/computation/expr.py\u001b[0m in \u001b[0;36mparse\u001b[0;34m(self)\u001b[0m\n\u001b[1;32m    725\u001b[0m     \u001b[0;32mdef\u001b[0m \u001b[0mparse\u001b[0m\u001b[0;34m(\u001b[0m\u001b[0mself\u001b[0m\u001b[0;34m)\u001b[0m\u001b[0;34m:\u001b[0m\u001b[0;34m\u001b[0m\u001b[0m\n\u001b[1;32m    726\u001b[0m         \u001b[0;34m\"\"\"Parse an expression\"\"\"\u001b[0m\u001b[0;34m\u001b[0m\u001b[0m\n\u001b[0;32m--> 727\u001b[0;31m         \u001b[0;32mreturn\u001b[0m \u001b[0mself\u001b[0m\u001b[0;34m.\u001b[0m\u001b[0m_visitor\u001b[0m\u001b[0;34m.\u001b[0m\u001b[0mvisit\u001b[0m\u001b[0;34m(\u001b[0m\u001b[0mself\u001b[0m\u001b[0;34m.\u001b[0m\u001b[0mexpr\u001b[0m\u001b[0;34m)\u001b[0m\u001b[0;34m\u001b[0m\u001b[0m\n\u001b[0m\u001b[1;32m    728\u001b[0m \u001b[0;34m\u001b[0m\u001b[0m\n\u001b[1;32m    729\u001b[0m     \u001b[0;34m@\u001b[0m\u001b[0mproperty\u001b[0m\u001b[0;34m\u001b[0m\u001b[0m\n",
      "\u001b[0;32m/Users/janash/anaconda/lib/python3.5/site-packages/pandas/computation/expr.py\u001b[0m in \u001b[0;36mvisit\u001b[0;34m(self, node, **kwargs)\u001b[0m\n\u001b[1;32m    309\u001b[0m         \u001b[0mmethod\u001b[0m \u001b[0;34m=\u001b[0m \u001b[0;34m'visit_'\u001b[0m \u001b[0;34m+\u001b[0m \u001b[0mnode\u001b[0m\u001b[0;34m.\u001b[0m\u001b[0m__class__\u001b[0m\u001b[0;34m.\u001b[0m\u001b[0m__name__\u001b[0m\u001b[0;34m\u001b[0m\u001b[0m\n\u001b[1;32m    310\u001b[0m         \u001b[0mvisitor\u001b[0m \u001b[0;34m=\u001b[0m \u001b[0mgetattr\u001b[0m\u001b[0;34m(\u001b[0m\u001b[0mself\u001b[0m\u001b[0;34m,\u001b[0m \u001b[0mmethod\u001b[0m\u001b[0;34m)\u001b[0m\u001b[0;34m\u001b[0m\u001b[0m\n\u001b[0;32m--> 311\u001b[0;31m         \u001b[0;32mreturn\u001b[0m \u001b[0mvisitor\u001b[0m\u001b[0;34m(\u001b[0m\u001b[0mnode\u001b[0m\u001b[0;34m,\u001b[0m \u001b[0;34m**\u001b[0m\u001b[0mkwargs\u001b[0m\u001b[0;34m)\u001b[0m\u001b[0;34m\u001b[0m\u001b[0m\n\u001b[0m\u001b[1;32m    312\u001b[0m \u001b[0;34m\u001b[0m\u001b[0m\n\u001b[1;32m    313\u001b[0m     \u001b[0;32mdef\u001b[0m \u001b[0mvisit_Module\u001b[0m\u001b[0;34m(\u001b[0m\u001b[0mself\u001b[0m\u001b[0;34m,\u001b[0m \u001b[0mnode\u001b[0m\u001b[0;34m,\u001b[0m \u001b[0;34m**\u001b[0m\u001b[0mkwargs\u001b[0m\u001b[0;34m)\u001b[0m\u001b[0;34m:\u001b[0m\u001b[0;34m\u001b[0m\u001b[0m\n",
      "\u001b[0;32m/Users/janash/anaconda/lib/python3.5/site-packages/pandas/computation/expr.py\u001b[0m in \u001b[0;36mvisit_Module\u001b[0;34m(self, node, **kwargs)\u001b[0m\n\u001b[1;32m    315\u001b[0m             \u001b[0;32mraise\u001b[0m \u001b[0mSyntaxError\u001b[0m\u001b[0;34m(\u001b[0m\u001b[0;34m'only a single expression is allowed'\u001b[0m\u001b[0;34m)\u001b[0m\u001b[0;34m\u001b[0m\u001b[0m\n\u001b[1;32m    316\u001b[0m         \u001b[0mexpr\u001b[0m \u001b[0;34m=\u001b[0m \u001b[0mnode\u001b[0m\u001b[0;34m.\u001b[0m\u001b[0mbody\u001b[0m\u001b[0;34m[\u001b[0m\u001b[0;36m0\u001b[0m\u001b[0;34m]\u001b[0m\u001b[0;34m\u001b[0m\u001b[0m\n\u001b[0;32m--> 317\u001b[0;31m         \u001b[0;32mreturn\u001b[0m \u001b[0mself\u001b[0m\u001b[0;34m.\u001b[0m\u001b[0mvisit\u001b[0m\u001b[0;34m(\u001b[0m\u001b[0mexpr\u001b[0m\u001b[0;34m,\u001b[0m \u001b[0;34m**\u001b[0m\u001b[0mkwargs\u001b[0m\u001b[0;34m)\u001b[0m\u001b[0;34m\u001b[0m\u001b[0m\n\u001b[0m\u001b[1;32m    318\u001b[0m \u001b[0;34m\u001b[0m\u001b[0m\n\u001b[1;32m    319\u001b[0m     \u001b[0;32mdef\u001b[0m \u001b[0mvisit_Expr\u001b[0m\u001b[0;34m(\u001b[0m\u001b[0mself\u001b[0m\u001b[0;34m,\u001b[0m \u001b[0mnode\u001b[0m\u001b[0;34m,\u001b[0m \u001b[0;34m**\u001b[0m\u001b[0mkwargs\u001b[0m\u001b[0;34m)\u001b[0m\u001b[0;34m:\u001b[0m\u001b[0;34m\u001b[0m\u001b[0m\n",
      "\u001b[0;32m/Users/janash/anaconda/lib/python3.5/site-packages/pandas/computation/expr.py\u001b[0m in \u001b[0;36mvisit\u001b[0;34m(self, node, **kwargs)\u001b[0m\n\u001b[1;32m    309\u001b[0m         \u001b[0mmethod\u001b[0m \u001b[0;34m=\u001b[0m \u001b[0;34m'visit_'\u001b[0m \u001b[0;34m+\u001b[0m \u001b[0mnode\u001b[0m\u001b[0;34m.\u001b[0m\u001b[0m__class__\u001b[0m\u001b[0;34m.\u001b[0m\u001b[0m__name__\u001b[0m\u001b[0;34m\u001b[0m\u001b[0m\n\u001b[1;32m    310\u001b[0m         \u001b[0mvisitor\u001b[0m \u001b[0;34m=\u001b[0m \u001b[0mgetattr\u001b[0m\u001b[0;34m(\u001b[0m\u001b[0mself\u001b[0m\u001b[0;34m,\u001b[0m \u001b[0mmethod\u001b[0m\u001b[0;34m)\u001b[0m\u001b[0;34m\u001b[0m\u001b[0m\n\u001b[0;32m--> 311\u001b[0;31m         \u001b[0;32mreturn\u001b[0m \u001b[0mvisitor\u001b[0m\u001b[0;34m(\u001b[0m\u001b[0mnode\u001b[0m\u001b[0;34m,\u001b[0m \u001b[0;34m**\u001b[0m\u001b[0mkwargs\u001b[0m\u001b[0;34m)\u001b[0m\u001b[0;34m\u001b[0m\u001b[0m\n\u001b[0m\u001b[1;32m    312\u001b[0m \u001b[0;34m\u001b[0m\u001b[0m\n\u001b[1;32m    313\u001b[0m     \u001b[0;32mdef\u001b[0m \u001b[0mvisit_Module\u001b[0m\u001b[0;34m(\u001b[0m\u001b[0mself\u001b[0m\u001b[0;34m,\u001b[0m \u001b[0mnode\u001b[0m\u001b[0;34m,\u001b[0m \u001b[0;34m**\u001b[0m\u001b[0mkwargs\u001b[0m\u001b[0;34m)\u001b[0m\u001b[0;34m:\u001b[0m\u001b[0;34m\u001b[0m\u001b[0m\n",
      "\u001b[0;32m/Users/janash/anaconda/lib/python3.5/site-packages/pandas/computation/expr.py\u001b[0m in \u001b[0;36mvisit_Expr\u001b[0;34m(self, node, **kwargs)\u001b[0m\n\u001b[1;32m    318\u001b[0m \u001b[0;34m\u001b[0m\u001b[0m\n\u001b[1;32m    319\u001b[0m     \u001b[0;32mdef\u001b[0m \u001b[0mvisit_Expr\u001b[0m\u001b[0;34m(\u001b[0m\u001b[0mself\u001b[0m\u001b[0;34m,\u001b[0m \u001b[0mnode\u001b[0m\u001b[0;34m,\u001b[0m \u001b[0;34m**\u001b[0m\u001b[0mkwargs\u001b[0m\u001b[0;34m)\u001b[0m\u001b[0;34m:\u001b[0m\u001b[0;34m\u001b[0m\u001b[0m\n\u001b[0;32m--> 320\u001b[0;31m         \u001b[0;32mreturn\u001b[0m \u001b[0mself\u001b[0m\u001b[0;34m.\u001b[0m\u001b[0mvisit\u001b[0m\u001b[0;34m(\u001b[0m\u001b[0mnode\u001b[0m\u001b[0;34m.\u001b[0m\u001b[0mvalue\u001b[0m\u001b[0;34m,\u001b[0m \u001b[0;34m**\u001b[0m\u001b[0mkwargs\u001b[0m\u001b[0;34m)\u001b[0m\u001b[0;34m\u001b[0m\u001b[0m\n\u001b[0m\u001b[1;32m    321\u001b[0m \u001b[0;34m\u001b[0m\u001b[0m\n\u001b[1;32m    322\u001b[0m     \u001b[0;32mdef\u001b[0m \u001b[0m_rewrite_membership_op\u001b[0m\u001b[0;34m(\u001b[0m\u001b[0mself\u001b[0m\u001b[0;34m,\u001b[0m \u001b[0mnode\u001b[0m\u001b[0;34m,\u001b[0m \u001b[0mleft\u001b[0m\u001b[0;34m,\u001b[0m \u001b[0mright\u001b[0m\u001b[0;34m)\u001b[0m\u001b[0;34m:\u001b[0m\u001b[0;34m\u001b[0m\u001b[0m\n",
      "\u001b[0;32m/Users/janash/anaconda/lib/python3.5/site-packages/pandas/computation/expr.py\u001b[0m in \u001b[0;36mvisit\u001b[0;34m(self, node, **kwargs)\u001b[0m\n\u001b[1;32m    309\u001b[0m         \u001b[0mmethod\u001b[0m \u001b[0;34m=\u001b[0m \u001b[0;34m'visit_'\u001b[0m \u001b[0;34m+\u001b[0m \u001b[0mnode\u001b[0m\u001b[0;34m.\u001b[0m\u001b[0m__class__\u001b[0m\u001b[0;34m.\u001b[0m\u001b[0m__name__\u001b[0m\u001b[0;34m\u001b[0m\u001b[0m\n\u001b[1;32m    310\u001b[0m         \u001b[0mvisitor\u001b[0m \u001b[0;34m=\u001b[0m \u001b[0mgetattr\u001b[0m\u001b[0;34m(\u001b[0m\u001b[0mself\u001b[0m\u001b[0;34m,\u001b[0m \u001b[0mmethod\u001b[0m\u001b[0;34m)\u001b[0m\u001b[0;34m\u001b[0m\u001b[0m\n\u001b[0;32m--> 311\u001b[0;31m         \u001b[0;32mreturn\u001b[0m \u001b[0mvisitor\u001b[0m\u001b[0;34m(\u001b[0m\u001b[0mnode\u001b[0m\u001b[0;34m,\u001b[0m \u001b[0;34m**\u001b[0m\u001b[0mkwargs\u001b[0m\u001b[0;34m)\u001b[0m\u001b[0;34m\u001b[0m\u001b[0m\n\u001b[0m\u001b[1;32m    312\u001b[0m \u001b[0;34m\u001b[0m\u001b[0m\n\u001b[1;32m    313\u001b[0m     \u001b[0;32mdef\u001b[0m \u001b[0mvisit_Module\u001b[0m\u001b[0;34m(\u001b[0m\u001b[0mself\u001b[0m\u001b[0;34m,\u001b[0m \u001b[0mnode\u001b[0m\u001b[0;34m,\u001b[0m \u001b[0;34m**\u001b[0m\u001b[0mkwargs\u001b[0m\u001b[0;34m)\u001b[0m\u001b[0;34m:\u001b[0m\u001b[0;34m\u001b[0m\u001b[0m\n",
      "\u001b[0;32m/Users/janash/anaconda/lib/python3.5/site-packages/pandas/computation/expr.py\u001b[0m in \u001b[0;36mvisit_Call_35\u001b[0;34m(self, node, side, **kwargs)\u001b[0m\n\u001b[1;32m    519\u001b[0m \u001b[0;34m\u001b[0m\u001b[0m\n\u001b[1;32m    520\u001b[0m         \u001b[0;32mif\u001b[0m \u001b[0misinstance\u001b[0m\u001b[0;34m(\u001b[0m\u001b[0mnode\u001b[0m\u001b[0;34m.\u001b[0m\u001b[0mfunc\u001b[0m\u001b[0;34m,\u001b[0m \u001b[0mast\u001b[0m\u001b[0;34m.\u001b[0m\u001b[0mAttribute\u001b[0m\u001b[0;34m)\u001b[0m\u001b[0;34m:\u001b[0m\u001b[0;34m\u001b[0m\u001b[0m\n\u001b[0;32m--> 521\u001b[0;31m             \u001b[0mres\u001b[0m \u001b[0;34m=\u001b[0m \u001b[0mself\u001b[0m\u001b[0;34m.\u001b[0m\u001b[0mvisit_Attribute\u001b[0m\u001b[0;34m(\u001b[0m\u001b[0mnode\u001b[0m\u001b[0;34m.\u001b[0m\u001b[0mfunc\u001b[0m\u001b[0;34m)\u001b[0m\u001b[0;34m\u001b[0m\u001b[0m\n\u001b[0m\u001b[1;32m    522\u001b[0m         \u001b[0;32melif\u001b[0m \u001b[0;32mnot\u001b[0m \u001b[0misinstance\u001b[0m\u001b[0;34m(\u001b[0m\u001b[0mnode\u001b[0m\u001b[0;34m.\u001b[0m\u001b[0mfunc\u001b[0m\u001b[0;34m,\u001b[0m \u001b[0mast\u001b[0m\u001b[0;34m.\u001b[0m\u001b[0mName\u001b[0m\u001b[0;34m)\u001b[0m\u001b[0;34m:\u001b[0m\u001b[0;34m\u001b[0m\u001b[0m\n\u001b[1;32m    523\u001b[0m             \u001b[0;32mraise\u001b[0m \u001b[0mTypeError\u001b[0m\u001b[0;34m(\u001b[0m\u001b[0;34m\"Only named functions are supported\"\u001b[0m\u001b[0;34m)\u001b[0m\u001b[0;34m\u001b[0m\u001b[0m\n",
      "\u001b[0;32m/Users/janash/anaconda/lib/python3.5/site-packages/pandas/computation/expr.py\u001b[0m in \u001b[0;36mvisit_Attribute\u001b[0;34m(self, node, **kwargs)\u001b[0m\n\u001b[1;32m    512\u001b[0m                     \u001b[0;32mreturn\u001b[0m \u001b[0mresolved\u001b[0m\u001b[0;34m\u001b[0m\u001b[0m\n\u001b[1;32m    513\u001b[0m \u001b[0;34m\u001b[0m\u001b[0m\n\u001b[0;32m--> 514\u001b[0;31m         \u001b[0;32mraise\u001b[0m \u001b[0mValueError\u001b[0m\u001b[0;34m(\u001b[0m\u001b[0;34m\"Invalid Attribute context {0}\"\u001b[0m\u001b[0;34m.\u001b[0m\u001b[0mformat\u001b[0m\u001b[0;34m(\u001b[0m\u001b[0mctx\u001b[0m\u001b[0;34m.\u001b[0m\u001b[0m__name__\u001b[0m\u001b[0;34m)\u001b[0m\u001b[0;34m)\u001b[0m\u001b[0;34m\u001b[0m\u001b[0m\n\u001b[0m\u001b[1;32m    515\u001b[0m \u001b[0;34m\u001b[0m\u001b[0m\n\u001b[1;32m    516\u001b[0m     \u001b[0;32mdef\u001b[0m \u001b[0mvisit_Call_35\u001b[0m\u001b[0;34m(\u001b[0m\u001b[0mself\u001b[0m\u001b[0;34m,\u001b[0m \u001b[0mnode\u001b[0m\u001b[0;34m,\u001b[0m \u001b[0mside\u001b[0m\u001b[0;34m=\u001b[0m\u001b[0;32mNone\u001b[0m\u001b[0;34m,\u001b[0m \u001b[0;34m**\u001b[0m\u001b[0mkwargs\u001b[0m\u001b[0;34m)\u001b[0m\u001b[0;34m:\u001b[0m\u001b[0;34m\u001b[0m\u001b[0m\n",
      "\u001b[0;31mAttributeError\u001b[0m: 'Load' object has no attribute '__name__'"
     ]
    }
   ],
   "source": [
    "periodic_data.query(\"Name.str.contain('ium')\")"
   ]
  },
  {
   "cell_type": "code",
   "execution_count": 33,
   "metadata": {
    "collapsed": true
   },
   "outputs": [],
   "source": [
    "test = 'hello'"
   ]
  },
  {
   "cell_type": "code",
   "execution_count": 35,
   "metadata": {
    "collapsed": false
   },
   "outputs": [
    {
     "ename": "KeyError",
     "evalue": "'test'",
     "output_type": "error",
     "traceback": [
      "\u001b[0;31m---------------------------------------------------------------------------\u001b[0m",
      "\u001b[0;31mKeyError\u001b[0m                                  Traceback (most recent call last)",
      "\u001b[0;32m<ipython-input-35-b1cf36f95a24>\u001b[0m in \u001b[0;36m<module>\u001b[0;34m()\u001b[0m\n\u001b[0;32m----> 1\u001b[0;31m \u001b[0mprint\u001b[0m\u001b[0;34m(\u001b[0m\u001b[0mstr\u001b[0m\u001b[0;34m.\u001b[0m\u001b[0mformat\u001b[0m\u001b[0;34m(\u001b[0m\u001b[0;34m'{test} world!'\u001b[0m\u001b[0;34m)\u001b[0m\u001b[0;34m)\u001b[0m\u001b[0;34m\u001b[0m\u001b[0m\n\u001b[0m",
      "\u001b[0;31mKeyError\u001b[0m: 'test'"
     ]
    }
   ],
   "source": [
    "print(str.format('test} world!'))"
   ]
  },
  {
   "cell_type": "code",
   "execution_count": 36,
   "metadata": {
    "collapsed": false
   },
   "outputs": [
    {
     "data": {
      "text/plain": [
       "'hello YES votes'"
      ]
     },
     "execution_count": 36,
     "metadata": {},
     "output_type": "execute_result"
    }
   ],
   "source": [
    "'{} YES votes'.format(test)"
   ]
  },
  {
   "cell_type": "code",
   "execution_count": null,
   "metadata": {
    "collapsed": true
   },
   "outputs": [],
   "source": [
    "'{} '"
   ]
  }
 ],
 "metadata": {
  "kernelspec": {
   "display_name": "Python [Root]",
   "language": "python",
   "name": "Python [Root]"
  },
  "language_info": {
   "codemirror_mode": {
    "name": "ipython",
    "version": 3
   },
   "file_extension": ".py",
   "mimetype": "text/x-python",
   "name": "python",
   "nbconvert_exporter": "python",
   "pygments_lexer": "ipython3",
   "version": "3.5.2"
  }
 },
 "nbformat": 4,
 "nbformat_minor": 0
}
