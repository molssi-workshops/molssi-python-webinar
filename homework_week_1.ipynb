{
 "cells": [
  {
   "cell_type": "markdown",
   "metadata": {},
   "source": [
    "# Solution for Week 1 Homework"
   ]
  },
  {
   "cell_type": "code",
   "execution_count": 5,
   "metadata": {},
   "outputs": [],
   "source": [
    "import os\n",
    "\n",
    "# Open the file for reading.\n",
    "\n",
    "filename = os.path.join('data', '03_Prod.mdout')\n",
    "\n",
    "f = open(filename, 'r')\n",
    "\n",
    "# Read the data.\n",
    "data = f.readlines()\n",
    "\n",
    "# Close the file.\n",
    "f.close()\n",
    "\n",
    "f_write = open('Etot.txt', 'w+')\n",
    "\n",
    "# Loop through lines in the file.\n",
    "for line in data:\n",
    "    # Get information from lines.\n",
    "    split_line = line.split()\n",
    "    \n",
    "    if 'Etot' in line:\n",
    "        #print(split_line[2])\n",
    "        f_write.write(f'{split_line[2]}\\n')\n",
    "    \n",
    "\n",
    "f_write.close()"
   ]
  },
  {
   "cell_type": "code",
   "execution_count": null,
   "metadata": {},
   "outputs": [],
   "source": []
  }
 ],
 "metadata": {
  "kernelspec": {
   "display_name": "Python 3",
   "language": "python",
   "name": "python3"
  },
  "language_info": {
   "codemirror_mode": {
    "name": "ipython",
    "version": 3
   },
   "file_extension": ".py",
   "mimetype": "text/x-python",
   "name": "python",
   "nbconvert_exporter": "python",
   "pygments_lexer": "ipython3",
   "version": "3.7.4"
  }
 },
 "nbformat": 4,
 "nbformat_minor": 2
}
